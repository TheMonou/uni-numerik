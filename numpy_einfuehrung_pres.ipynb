{
 "cells": [
  {
   "cell_type": "markdown",
   "id": "339dd7b6",
   "metadata": {},
   "source": [
    "# 🧮 NumPy-Einführung für den Kurs *Numerik 1*\n",
    "Dieses Notebook richtet sich an Studierende, die bereits Python-Erfahrung besitzen. Es dient als Vorbereitung für das Praktikum zur Veranstaltung *Numerik 1* im Bachelor *Angewandte Mathematik und Informatik*.\n",
    "\n",
    "Weitere Informationen zu NumPy findet man in der API unter [https://numpy.org/doc/stable/reference/](https://numpy.org/doc/stable/reference/)\n",
    "\n",
    "Insbesondere:\n",
    "- [Array objects](https://numpy.org/doc/stable/reference/arrays.html)\n",
    "- [Mathematical functions](https://numpy.org/doc/stable/reference/routines.math.html)\n",
    "- [Linear Algebra](https://numpy.org/doc/stable/reference/routines.linalg.html)"
   ]
  },
  {
   "cell_type": "markdown",
   "id": "58a53f7b",
   "metadata": {},
   "source": [
    "## Inhalt\n",
    "1. [Warum NumPy?](#1-warum-numpy)\n",
    "2. [Arrays erstellen](#2-arrays-erstellen)\n",
    "3. [Indexing und Slicing](#3-indexing-und-slicing)\n",
    "4. [Vektorisiertes Rechnen](#4-vektorisiertes-rechnen)\n",
    "5. [Mathematische Grundfunktionen](#5-mathematische-grundfunktionen)\n",
    "6. [Lineare Algebra](#6-lineare-algebra)\n",
    "7. [Numerische Funktionen](#7-numerische-funktionen)\n",
    "8. [Fallstricke & Tipps](#8-fallstricke--tipps)\n",
    "9. [Weiterführendes](#9-weitere-nützliche-bibliotheken-für-die-numerik)"
   ]
  },
  {
   "cell_type": "markdown",
   "id": "c722fc93",
   "metadata": {},
   "source": [
    "## 1. Warum NumPy?\n",
    "Python-Listen `list` sind flexibel – aber langsam und speicherintensiv, besonders bei numerischen Berechnungen. NumPy bietet:\n",
    "- Homogene Arrays (alle Elemente gleich typisiert)\n",
    "- Vektorisierung (schnellere Berechnungen ohne Schleifen)\n",
    "- Zugriff auf schnelle C-Bibliotheken"
   ]
  },
  {
   "cell_type": "code",
   "execution_count": null,
   "id": "9b12f3d3",
   "metadata": {},
   "outputs": [],
   "source": [
    "import numpy as np"
   ]
  },
  {
   "cell_type": "code",
   "execution_count": null,
   "id": "6057bd33",
   "metadata": {},
   "outputs": [],
   "source": [
    "liste = list(range(1_000_000)) # Schreibweise mit Unterstrich ab Python 3.6\n",
    "array = np.arange(1_000_000)"
   ]
  },
  {
   "cell_type": "code",
   "execution_count": null,
   "id": "77b74a6e",
   "metadata": {},
   "outputs": [],
   "source": [
    "# Standard-Python\n",
    "%timeit -n 10 -r 7 [x ** 2 for x in liste] "
   ]
  },
  {
   "cell_type": "code",
   "execution_count": null,
   "id": "7ffe8f88",
   "metadata": {},
   "outputs": [],
   "source": [
    "# Numpy\n",
    "%timeit -n 10 -r 7 array ** 2 "
   ]
  },
  {
   "cell_type": "markdown",
   "id": "0869e5e3",
   "metadata": {},
   "source": [
    "## 2. Arrays erstellen"
   ]
  },
  {
   "cell_type": "code",
   "id": "4c6dd66f",
   "metadata": {
    "ExecuteTime": {
     "end_time": "2025-04-04T08:04:52.247868Z",
     "start_time": "2025-04-04T08:04:52.000995Z"
    }
   },
   "source": [
    "# Einfache Arrays\n",
    "a = np.array([1, 2, 3])\n",
    "b = np.zeros(5)\n",
    "c = np.ones((2, 3))\n",
    "d = np.arange(0, 10, 2)\n",
    "e = np.linspace(0, 1, 5)\n",
    "a, b, c, d, e"
   ],
   "outputs": [
    {
     "data": {
      "text/plain": [
       "(array([1, 2, 3]),\n",
       " array([0., 0., 0., 0., 0.]),\n",
       " array([[1., 1., 1.],\n",
       "        [1., 1., 1.]]),\n",
       " array([0, 2, 4, 6, 8]),\n",
       " array([0.  , 0.25, 0.5 , 0.75, 1.  ]))"
      ]
     },
     "execution_count": 8,
     "metadata": {},
     "output_type": "execute_result"
    }
   ],
   "execution_count": 8
  },
  {
   "cell_type": "code",
   "execution_count": null,
   "id": "226371ad",
   "metadata": {},
   "outputs": [],
   "source": [
    "# Datentypen prüfen\n",
    "print(f\"Typ von a: {a.dtype}\")\n",
    "print(f\"Typ von b: {b.dtype}\")"
   ]
  },
  {
   "cell_type": "markdown",
   "id": "984cfe7f",
   "metadata": {},
   "source": [
    "## 3. Indexing und Slicing"
   ]
  },
  {
   "cell_type": "code",
   "id": "0666960d",
   "metadata": {
    "ExecuteTime": {
     "end_time": "2025-04-04T08:05:37.497686Z",
     "start_time": "2025-04-04T08:05:37.485483Z"
    }
   },
   "source": [
    "import numpy as np\n",
    "A = np.array([\n",
    "    [11, 12, 13, 14],\n",
    "    [21, 22, 23, 24],\n",
    "    [31, 32, 33, 34]\n",
    "])\n",
    "\n",
    "print(f\"A:\\n{A}\\n\")\n",
    "print(f\"Erstes Element: {A[0,0]}\\n\")\n",
    "print(f\"Zweite Zeile: {A[1]}\\n\")\n",
    "print(f\"Zweite Spalte: {A[:,1]}\\n\")\n",
    "print(f\"Teil-Matrix:\\n{A[1:,2:-1]}\\n\")\n",
    "print(f\"Teil-Matrix:\\n{A[1:3,1:4]}\")"
   ],
   "outputs": [
    {
     "name": "stdout",
     "output_type": "stream",
     "text": [
      "A:\n",
      "[[11 12 13 14]\n",
      " [21 22 23 24]\n",
      " [31 32 33 34]]\n",
      "\n",
      "Erstes Element: 11\n",
      "\n",
      "Zweite Zeile: [21 22 23 24]\n",
      "\n",
      "Zweite Spalte: [12 22 32]\n",
      "\n",
      "Teil-Matrix:\n",
      "[[23]\n",
      " [33]]\n",
      "\n",
      "Teil-Matrix:\n",
      "[[22 23 24]\n",
      " [32 33 34]]\n"
     ]
    }
   ],
   "execution_count": 9
  },
  {
   "cell_type": "code",
   "execution_count": null,
   "id": "fce75c92",
   "metadata": {},
   "outputs": [],
   "source": [
    "a = np.array([1,4,3,7,2,9])\n",
    "print(f\"{a=}\")\n",
    "perm = a[[2,4,0,3,5,1]]\n",
    "print(f\"{perm=}\")\n",
    "\n"
   ]
  },
  {
   "cell_type": "code",
   "execution_count": null,
   "id": "041f8e7e",
   "metadata": {},
   "outputs": [],
   "source": [
    "maske = np.array([True, True, False, True])\n",
    "a = np.array([1,2,3,4])\n",
    "# maske = (a % 2 == 0)\n",
    "\n",
    "print(f\"{a[maske]=}\")"
   ]
  },
  {
   "cell_type": "code",
   "execution_count": null,
   "id": "ef2a312a",
   "metadata": {},
   "outputs": [],
   "source": [
    "print(f\"{A=}\")\n",
    "print(f\"{A[0,maske]=}\")"
   ]
  },
  {
   "cell_type": "code",
   "execution_count": null,
   "id": "fbd9fa80",
   "metadata": {},
   "outputs": [],
   "source": [
    "indices = np.where(A % 2 == 0)\n",
    "print(indices)\n",
    "print(f\"{A[indices]}\")"
   ]
  },
  {
   "cell_type": "markdown",
   "id": "9ed7d825",
   "metadata": {},
   "source": [
    "## 4. Vektorisiertes Rechnen"
   ]
  },
  {
   "cell_type": "code",
   "execution_count": null,
   "id": "bdf44aa6",
   "metadata": {},
   "outputs": [],
   "source": [
    "# Ineffizient\n",
    "\n",
    "import math\n",
    "\n",
    "xx = []\n",
    "yy = []\n",
    "n = 1_000_000\n",
    "for i in range(0,n):\n",
    "    x = i*(2*np.pi/n)\n",
    "    y = math.sin(x) * math.exp(-x)\n",
    "\n",
    "    xx += [x]\n",
    "    yy += [y]\n",
    "    \n",
    "import matplotlib.pyplot as plt # normalerweise oben importieren\n",
    "plt.plot(xx, yy)\n",
    "plt.title(r'$f(x) = \\sin(x)\\cdot \\exp(-x)$')\n",
    "plt.grid(True)\n",
    "plt.show()"
   ]
  },
  {
   "cell_type": "code",
   "execution_count": null,
   "id": "6d5bb2fe",
   "metadata": {},
   "outputs": [],
   "source": [
    "# Professioneller\n",
    "\n",
    "x = np.linspace(0, 2*np.pi, int(1e6))\n",
    "y = np.sin(x) * np.exp(-x)\n",
    "\n",
    "import matplotlib.pyplot as plt  # normalerweise oben importieren\n",
    "plt.plot(x, y)\n",
    "plt.title(r'$f(x) = \\sin(x)\\cdot \\exp(-x)$')\n",
    "plt.grid(True)\n",
    "plt.show()"
   ]
  },
  {
   "cell_type": "markdown",
   "id": "7b811be5",
   "metadata": {},
   "source": [
    "## 5. Mathematische Grundfunktionen"
   ]
  },
  {
   "cell_type": "code",
   "execution_count": null,
   "id": "808f04f2",
   "metadata": {},
   "outputs": [],
   "source": [
    "mu = 10\n",
    "sigma = 2\n",
    "xx = mu + sigma*np.random.randn(3) # Normalverteilte Zufallszahlen\n",
    "print(f\"{xx=}\\n\")\n",
    "print(f\"{np.abs(xx)=}\\n\")\n",
    "print(f\"{np.sqrt(xx)=}\\n\")\n",
    "print(f\"{np.power(xx,2)=}\\n\")\n",
    "print(f\"{np.exp(xx)=}\\n\")\n",
    "print(f\"{np.log(xx)=}\\n\")\n",
    "print(f\"{np.log10(xx)=}\\n\")\n",
    "print(f\"{np.log2(xx)=}\\n\")"
   ]
  },
  {
   "cell_type": "code",
   "execution_count": null,
   "id": "8989d446",
   "metadata": {},
   "outputs": [],
   "source": [
    "print(f\"{np.sin(xx)=}\\n\")\n",
    "print(f\"{np.cos(xx)=}\\n\")\n",
    "print(f\"{np.tan(xx)=}\\n\")\n",
    "print(f\"{np.arcsin(np.sin(xx))=}\\n\")\n",
    "print(f\"{np.arccos(np.cos(xx))=}\\n\")\n",
    "print(f\"{np.arctan(np.tan(xx))=}\\n\")"
   ]
  },
  {
   "cell_type": "code",
   "execution_count": null,
   "id": "9ade3777",
   "metadata": {},
   "outputs": [],
   "source": [
    "print(f\"{np.mean(xx)=}\\n\")\n",
    "print(f\"{np.max(xx)=}\\n\")\n",
    "print(f\"{np.min(xx)=}\\n\")\n",
    "print(f\"{np.median(xx)=}\\n\")\n",
    "print(f\"{np.std(xx)=}\\n\")\n",
    "print(f\"{np.var(xx)=}\\n\")\n",
    "print(f\"{np.percentile(xx, 0.25)=}\\n\")"
   ]
  },
  {
   "cell_type": "code",
   "execution_count": null,
   "id": "78f57172",
   "metadata": {},
   "outputs": [],
   "source": [
    "A = np.array([\n",
    "    [1, 1, 1],\n",
    "    [2, 2, 2]\n",
    "])\n",
    "print(f\"{np.sum(A, axis=0)=}\")"
   ]
  },
  {
   "cell_type": "markdown",
   "id": "63771e15",
   "metadata": {},
   "source": [
    "## 6. Lineare Algebra"
   ]
  },
  {
   "cell_type": "markdown",
   "id": "0f92172c",
   "metadata": {},
   "source": [
    "### Grundrechenoperationen"
   ]
  },
  {
   "cell_type": "code",
   "execution_count": null,
   "id": "f1f78c84",
   "metadata": {},
   "outputs": [],
   "source": [
    "A = np.array([[1,2,1],\n",
    "              [3,4,9]]) # 2x3\n",
    "B = np.array([[4,1,2],\n",
    "              [7,1,5]]) # 2x3\n",
    "\n",
    "v = np.array([3,3,3])\n",
    "\n",
    "## Addition\n",
    "print(f\"Addition: \\nA+B = \\n{A+B}\\n\")\n",
    "\n",
    "## Subtraktion\n",
    "print(f\"Subtraktion: \\nA-B = \\n{A-B}\\n\")\n",
    "\n",
    "## Elementweise Multiplikation\n",
    "print(f\"Elementweise Multiplikation:\\nA*B = \\n{A*B}\\n\")\n",
    "\n",
    "## Elementweise Division\n",
    "print(f\"Elementweise Division:\\nA/B = \\n{A/B}\\n\")\n"
   ]
  },
  {
   "cell_type": "code",
   "execution_count": null,
   "id": "aac6036a",
   "metadata": {},
   "outputs": [],
   "source": [
    "## Matrix-Multiplikation\n",
    "print(\"Matrix-Multiplikation:\")\n",
    "\n",
    "# print(f\"np.dot(A,B.T) = \\n{np.dot(A,B.T)}\\n\") # veraltet, aber möglich\n",
    "# print(f\"A.dot(B.T) = \\n{A.dot(B.T)}\\n\") # veraltet, aber möglich\n",
    "\n",
    "# Modern:\n",
    "print(f\"A @ B.T = \\n{A @ B.T}\\n\") # B.T = B.transpose()\n",
    "print(f\"np.matmul(A,B.T)= \\n{np.matmul(A,B.T)}\\n\") # A @ B = np.matmul(A,B)\n",
    "\n",
    "## Matrix-Vektor-Multiplikation\n",
    "print(\"Matrix-Vektor-Multiplikation:\")\n",
    "print(f\"A @ v = \\n{A @ v}\\n\")\n",
    "print(f\"A @ v.T = \\n{A @ v.T}\\n\")\n",
    "print(f\"v @ A.T = \\n{v @ A.T}\\n\")\n",
    "print(f\"v.T @ A.T = \\n{v.T @ A.T}\\n\")"
   ]
  },
  {
   "cell_type": "code",
   "execution_count": null,
   "id": "c333a81b",
   "metadata": {},
   "outputs": [],
   "source": [
    "A = np.array([\n",
    "    [1,2,3],\n",
    "    [1,2,3]\n",
    "])\n",
    "B = np.array([\n",
    "    [4,4,4]\n",
    "])\n",
    "C = np.array([\n",
    "    [5],\n",
    "    [5],\n",
    "    [5]\n",
    "])\n",
    "x = np.array([5,5,5])\n",
    "\n",
    "print(f\"{A.shape=}\")\n",
    "print(f\"{B.shape=}\")\n",
    "print(f\"{C.shape=}\")\n",
    "print(f\"{x.shape=}\")"
   ]
  },
  {
   "cell_type": "markdown",
   "id": "b3b4c8ce",
   "metadata": {},
   "source": [
    "### Broadcasting\n",
    "\n",
    "Wenn zwei Arrays, mit womöglich unterschiedlichen Dimensionen, verknüpft werden sollen (z.B. durch `+`,`-`,`*`,`/`,`@`), läuft das wie folgt ab:\n",
    "\n",
    "> (1) **Einseitige Erweiterung**: \n",
    "\n",
    ">> - Das Array mit weniger Dimensionen wird **von links** mit `1`-en ergänzt.\n",
    "\n",
    "> (2) **Kompatiblität der Dimensionen**: Zwei Dimensionen sind **kompatibel**, wenn\n",
    "\n",
    ">> - sie **gleich** sind, oder\n",
    "\n",
    ">> - eine von **beiden** `1` ist $\\Rightarrow$ Kleinere Dimesion wird *gestreckt* (broadcasted), ohne dass neue Daten allokiert werden.\n",
    "\n",
    "> (3) **Fehler bei Imkompatibilität**: \n",
    "\n",
    ">> - Wenn **keine** der beiden Bedingungen in (2) erfüllt ist, wird ein `ValueError: operands could not be broadcast together with shapes` geworfen"
   ]
  },
  {
   "cell_type": "code",
   "execution_count": null,
   "id": "420d78c2",
   "metadata": {},
   "outputs": [],
   "source": [
    "print(f\"{A + B=}\")\n",
    "\"\"\"\n",
    "B wird als Zeilenvektor bzw. 1x3 Matrix kopiert, sodass er zu einer 2x3 Matrix wird\n",
    "\"\"\";"
   ]
  },
  {
   "cell_type": "code",
   "execution_count": null,
   "id": "a128d0cd",
   "metadata": {},
   "outputs": [],
   "source": [
    "# print(f\"{A + C=}\")\n",
    "\"\"\"\n",
    "Nicht möglich, da von den Dimensionen (2,3) und (3,1) nur 3 und 1 kompatibel sind, \n",
    "aber 2 und 3 führen zum ValueError \n",
    "\"\"\";"
   ]
  },
  {
   "cell_type": "code",
   "execution_count": null,
   "id": "f275e21c",
   "metadata": {},
   "outputs": [],
   "source": [
    "print(f\"{A + x=}\")\n",
    "\"\"\"\n",
    "Shape von x wird von links mit 1 aufgefüllt zu (1,3). \n",
    "Anschließend wird es auf (2,3) erweitert, indem der Zeilenvektor kopiert wird.\n",
    "\"\"\";"
   ]
  },
  {
   "cell_type": "code",
   "execution_count": null,
   "id": "009c43c6",
   "metadata": {},
   "outputs": [],
   "source": [
    "print(f\"{B+C=}\")\n",
    "\"\"\"\n",
    "B hat shape (1,3) und C (3,1). Somit sind jeweils beide Dimensionen kompatibel. \n",
    "Der Zeilenvektor B wird kopiert zu (3,3). Der Spaltenvektor C wird ebenfalls \n",
    "kopiert zu (3,3).\n",
    "\"\"\";"
   ]
  },
  {
   "cell_type": "code",
   "execution_count": null,
   "id": "8c51718d",
   "metadata": {},
   "outputs": [],
   "source": [
    "A = np.random.rand(5,3,3)\n",
    "print(f\"{A.shape=}\\n\")\n",
    "\n",
    "x = np.ones(3)\n",
    "print(f\"{x.shape=}\")"
   ]
  },
  {
   "cell_type": "code",
   "execution_count": null,
   "id": "040bde73",
   "metadata": {},
   "outputs": [],
   "source": [
    "print(f\"{A + x=}\")\n",
    "\"\"\"\n",
    "Shape von x wird von links mit 1 aufgefüllt zu (1,1,3). Anschließend wird x analog zu oben auf (5,3,3) aufgefüllt. x sieht dann für den Moment so aus:\n",
    "\"\"\";\n",
    "# print(f\"x* = {(A + x) - A=}\")"
   ]
  },
  {
   "cell_type": "markdown",
   "id": "df5074cc",
   "metadata": {},
   "source": [
    "### Hilfreiche Funktionen"
   ]
  },
  {
   "cell_type": "markdown",
   "id": "9d5012de",
   "metadata": {},
   "source": [
    "### `numpy.shape` und `numpy.reshape`\n",
    "`numpy.shape` dient als Äquivalent einer ***getter***-Funktion und `numpy.reshape` als ***setter***-Funktion"
   ]
  },
  {
   "cell_type": "code",
   "execution_count": null,
   "id": "8b34a613",
   "metadata": {},
   "outputs": [],
   "source": [
    "A = np.array([[1,2,1],\n",
    "              [3,4,9]]) # 2x3\n",
    "B = np.array([[4,1,2],\n",
    "              [7,1,5]]) # 2x3\n",
    "\n",
    "v = np.array([3,3,3])\n",
    "\n",
    "print(f\"{A.shape=}\")\n",
    "print(f\"{v.shape=}\")\n",
    "print(f\"{(A@v).shape=}\")\n",
    "print(f\"{(A@v.T).shape=}\")\n",
    "print(f\"{(v@A.T).shape=}\")\n",
    "print(f\"{(v.T@A.T).shape=}\")"
   ]
  },
  {
   "cell_type": "code",
   "execution_count": null,
   "id": "da45b212",
   "metadata": {},
   "outputs": [],
   "source": [
    "v_row = v.reshape(1, -1)\n",
    "v_col = v.reshape(-1, 1)\n",
    "\"\"\"\n",
    "'-1' gilt als Anweisung zum automatischen Auffüllen der entsprechenden Dimension\n",
    "\"\"\";\n",
    "print(f\"{v_row.shape=}\")\n",
    "print(f\"{v_col.shape=}\")\n",
    "\n",
    "a = A.reshape(-1)\n",
    "\"\"\"\n",
    "macht aus Matrix A mit shape (n x m) einen Vektor mit n*m Elementen\n",
    "\"\"\""
   ]
  },
  {
   "cell_type": "code",
   "execution_count": null,
   "id": "cc4a253c",
   "metadata": {},
   "outputs": [],
   "source": [
    "# w = np.array([[2],[2],[2]]) # w.shape = (3,1)\n",
    "w = np.array([[2,2,2]])     # w.shape = (1,3)\n",
    "print(f\"{w=}\")\n",
    "print(f\"{w.shape=}\")\n",
    "# print(f\"{(A@w).shape=}\")\n",
    "print(f\"{(A@w.T).shape=}\")\n",
    "print(f\"{(w@A.T).shape=}\")\n",
    "# print(f\"{(w.T@A.T).shape=}\")"
   ]
  },
  {
   "cell_type": "code",
   "execution_count": null,
   "id": "cba1179c",
   "metadata": {},
   "outputs": [],
   "source": [
    "v = np.array([1,2,3])\n",
    "w = np.array([4,5,6])\n",
    "print(f\"v@w = \\n{v@w=}\")"
   ]
  },
  {
   "cell_type": "markdown",
   "id": "f464d247",
   "metadata": {},
   "source": [
    "### `numpy.outer`\n",
    "Dient zum Berechnen des **äußeren Produktes** zweier Vektoren"
   ]
  },
  {
   "cell_type": "code",
   "execution_count": null,
   "id": "bdcdccdc",
   "metadata": {},
   "outputs": [],
   "source": [
    "print(f\"np.outer(v,w) = \\n{np.outer(v,w)}\")"
   ]
  },
  {
   "cell_type": "code",
   "execution_count": null,
   "id": "08c8be74",
   "metadata": {},
   "outputs": [],
   "source": [
    "v = np.array([[1],[2],[3]]) # 3x1 Matrix\n",
    "w = np.array([[4],[5],[6]]) # 3x1 Matrix\n",
    "print(f\"v.T@w = \\n{v.T@w}\\n\") # Skalarprodukt\n",
    "print(f\"v@w.T = \\n{v@w.T}\")   # äußeres Produkt"
   ]
  },
  {
   "cell_type": "markdown",
   "id": "8e03d23f",
   "metadata": {},
   "source": [
    "### `numpy.linalg.solve`\n",
    "Ist aus dem Modul [numpy.linalg](https://numpy.org/doc/stable/reference/routines.linalg.html) und dient zum Berechnen von linearen Gleichungssystemen $Ax=b$"
   ]
  },
  {
   "cell_type": "code",
   "execution_count": null,
   "id": "031b86db",
   "metadata": {},
   "outputs": [],
   "source": [
    "A = np.array([[3, 1], [1, 2]])\n",
    "b = np.array([9, 8])\n",
    "x = np.linalg.solve(A, b)\n",
    "x"
   ]
  },
  {
   "cell_type": "code",
   "execution_count": null,
   "id": "988719f2",
   "metadata": {},
   "outputs": [],
   "source": [
    "print(f\"{A@x-b=}\")"
   ]
  },
  {
   "cell_type": "markdown",
   "id": "fca9a8b2",
   "metadata": {},
   "source": [
    "### `numpy.linalg.norm`\n",
    "Berechnet die Norm von Matrizen und Vektoren. Standard für\n",
    "- Vektoren: 2-norm, also die euklidische Norm $\\|v\\|_2 = \\left[\\sum_{i}v_{i}^2\\right]^{\\frac{1}{2}}$\n",
    "- Matrizen: Frobeniusnorm 'fro' $\\|A\\|_F = \\left[\\sum_{i,j}|a_{i,j}|^2\\right]^{\\frac{1}{2}}$"
   ]
  },
  {
   "cell_type": "code",
   "execution_count": null,
   "metadata": {},
   "outputs": [],
   "source": [
    "v = A@x-b\n",
    "print(f\"{v=}\\n\")\n",
    "print(f\"{np.linalg.norm(v)=}\\n\") # Euklidische Norm\n",
    "print(f\"{np.linalg.norm(v,1)=}\\n\") # Betragsnorm = np.sum(np.abs(v))\n",
    "print(f\"{np.linalg.norm(v,np.inf)=}\\n\") # Maximumsnorm = np.max(np.abs(v))"
   ],
   "id": "7dcda6c92ac44d36"
  },
  {
   "cell_type": "code",
   "execution_count": null,
   "id": "9d253533",
   "metadata": {},
   "outputs": [],
   "source": [
    "print(f\"{A=}\\n\")\n",
    "print(f\"{np.linalg.norm(A)=}\\n\") # Frobeniusnorm\n",
    "print(f\"{np.linalg.norm(A,1)=}\\n\") # Spaltensummennorm = np.max(np.sum(np.abs(A), axis=0))\n",
    "print(f\"{np.linalg.norm(A,np.inf)=}\\n\") # = Zeilensummennormn = np.max(np.sum(np.abs(A), axis=1))"
   ]
  },
  {
   "cell_type": "markdown",
   "id": "184abd32",
   "metadata": {},
   "source": [
    "### numpy.linalg.inv\n",
    "Berechnet die Inverse einer quadratischen regulären Matrix. **VORSICHT** bei schlecht konditionierten Matrizen.\n",
    "\n",
    "**Hinweis**: Sollte vermieden werden, wo es geht. Stattdessen ist es oftmals besser, Gleichungen/Formeln so umzustellen, dass man *nur* ein lineares Gleichungssystem zu berechnen hat. Statt beispielsweise $x = (A^TA)^{-1}A^Tb$ besser $Cx=y$ lösen mit $C=A^T A$ und $y=A^T b$"
   ]
  },
  {
   "cell_type": "code",
   "execution_count": null,
   "id": "5bf11268",
   "metadata": {},
   "outputs": [],
   "source": [
    "# Hilbert-Matrix für n = 5\n",
    "H = np.array([\n",
    "    [1.   , 1/2  , 1/3  , 1/4  , 1/5  ],\n",
    "    [1/2  , 1/3  , 1/4  , 1/5  , 1/6  ],\n",
    "    [1/3  , 1/4  , 1/5  , 1/6  , 1/7  ],\n",
    "    [1/4  , 1/5  , 1/6  , 1/7  , 1/8  ],\n",
    "    [1/5  , 1/6  , 1/7  , 1/8  , 1/9  ]\n",
    "])\n",
    "\n",
    "print(f\"{np.linalg.inv(H)@H}\")"
   ]
  },
  {
   "cell_type": "markdown",
   "id": "ada06166",
   "metadata": {},
   "source": [
    "### numpy.linalg.det\n",
    "Berechnet die Determinante einer quadratischen Matrix"
   ]
  },
  {
   "cell_type": "code",
   "execution_count": null,
   "id": "d3026f62",
   "metadata": {},
   "outputs": [],
   "source": [
    "A = np.array([[2,3],[1,-1]])\n",
    "print(f\"{np.linalg.det(A)=}\")"
   ]
  },
  {
   "cell_type": "markdown",
   "id": "a0f292cd",
   "metadata": {},
   "source": [
    "## 7. Numerische Funktionen"
   ]
  },
  {
   "cell_type": "markdown",
   "id": "ceae145e",
   "metadata": {},
   "source": [
    "### numpy.gradient\n",
    "Bestimmt die Ableitung mittels Zentraler Differenzen."
   ]
  },
  {
   "cell_type": "code",
   "execution_count": null,
   "id": "81067644",
   "metadata": {},
   "outputs": [],
   "source": [
    "x = np.linspace(0, 10, 100)\n",
    "y = np.sin(x)* np.exp(-x)\n",
    "dy_dx = np.gradient(y, x)\n",
    "plt.plot(x, y, label='$\\sin(x)\\cdot \\exp(-x)$')\n",
    "plt.plot(x, dy_dx, label='Ableitung')\n",
    "plt.legend()\n",
    "plt.grid(True)\n",
    "plt.show()"
   ]
  },
  {
   "cell_type": "markdown",
   "id": "b91fb904",
   "metadata": {},
   "source": [
    "### numpy.trapezoid\n",
    "\n",
    "Bestimmt das Integral mittels summierter Trapezregel"
   ]
  },
  {
   "cell_type": "code",
   "execution_count": null,
   "id": "f51eaf86",
   "metadata": {},
   "outputs": [],
   "source": [
    "x = np.linspace(0, 2*np.pi, 1000)\n",
    "y = np.sin(x) * np.exp(-x)\n",
    "\n",
    "area = np.trapezoid(y,x)\n",
    "plt.plot(x, y)\n",
    "plt.fill_between(x, y, alpha=0.3)\n",
    "plt.title(rf\"Trapezintegral $\\approx$ {area:.5f}\")\n",
    "plt.grid(True)\n",
    "plt.show()\n",
    "\n"
   ]
  },
  {
   "cell_type": "markdown",
   "id": "3a8c8663",
   "metadata": {},
   "source": [
    "## 8. Fallstricke & Tipps"
   ]
  },
  {
   "cell_type": "code",
   "execution_count": null,
   "id": "0b3b610b",
   "metadata": {},
   "outputs": [],
   "source": [
    "a = np.array([1, 2, 3])\n",
    "b = a  # keine Kopie!\n",
    "b[0] = 99\n",
    "print(f\"{a=}\")  # Auch a ist verändert!\n",
    "\n",
    "# Richtige Kopie:\n",
    "c = a.copy()\n",
    "c[0] = 1\n",
    "print(f\"{a=} , {c=}\")"
   ]
  },
  {
   "cell_type": "code",
   "execution_count": null,
   "id": "4d0c34da",
   "metadata": {},
   "outputs": [],
   "source": [
    "a = np.array([0,1,2,3,4,5,6])\n",
    "print(f\"{a[2:5]=}\")"
   ]
  },
  {
   "cell_type": "code",
   "execution_count": null,
   "id": "49527b06",
   "metadata": {},
   "outputs": [],
   "source": [
    "# Erinnerung an oben\n",
    "v = np.array([1,2,3,4])\n",
    "print(f\"{v.shape}\")\n",
    "print(f\"{v.reshape(1,-1).shape}\")\n",
    "print(f\"{v.reshape(-1,1).shape}\")"
   ]
  },
  {
   "cell_type": "code",
   "execution_count": null,
   "id": "b30f7a1d",
   "metadata": {},
   "outputs": [],
   "source": [
    "# Zudem noch...\n",
    "w = v.reshape(2,2) # keine Kopie!\n",
    "w[0,0] = 17\n",
    "print(f\"{v=}\")"
   ]
  },
  {
   "cell_type": "code",
   "execution_count": null,
   "id": "22b2d13c",
   "metadata": {},
   "outputs": [],
   "source": [
    "# Vergleich von 'floats'\n",
    "a = 0.1 + 0.2\n",
    "b = 0.3\n",
    "print(a==b)"
   ]
  },
  {
   "cell_type": "code",
   "execution_count": null,
   "id": "a1bead93",
   "metadata": {},
   "outputs": [],
   "source": [
    "# besser...\n",
    "print(np.abs(a-b) < np.finfo(np.float64).eps)\n",
    "\n",
    "# oder\n",
    "print(np.isclose(a, b))"
   ]
  },
  {
   "cell_type": "markdown",
   "id": "c26bd1cb",
   "metadata": {},
   "source": [
    "## 9. Weitere nützliche Bibliotheken für die Numerik\n",
    "\n",
    "- [scipy](https://docs.scipy.org/doc/scipy/reference/): Erweiterte numerische Verfahren\n",
    "- [sympy](https://docs.sympy.org/latest/reference/index.html): Symbolisches Rechnen für exakte Ableitungen, Vereinfachungen, analytische Lösungen (aber auch langsamer)\n",
    "- [numba](https://numba.pydata.org/numba-doc/dev/index.html): massive Speedups für Schleifen und Algorithmen durch Just-in-Time-Kompilierung"
   ]
  }
 ],
 "metadata": {
  "kernelspec": {
   "display_name": "numerik",
   "language": "python",
   "name": "python3"
  },
  "language_info": {
   "codemirror_mode": {
    "name": "ipython",
    "version": 3
   },
   "file_extension": ".py",
   "mimetype": "text/x-python",
   "name": "python",
   "nbconvert_exporter": "python",
   "pygments_lexer": "ipython3",
   "version": "3.11.11"
  }
 },
 "nbformat": 4,
 "nbformat_minor": 5
}
